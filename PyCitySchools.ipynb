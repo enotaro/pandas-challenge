# PyCity Schools Analysis

# Dependencies and Setup
import pandas as pd

# File to Load (Remember to Change These)
school_data_to_load = ("/Users/emilynotaro/Downloads/Starter_Code/PyCitySchools/Resources/schools_complete.csv")
student_data_to_load = ("/Users/emilynotaro/Downloads/Starter_Code/PyCitySchools/Resources/students_complete.csv")

# Read School and Student Data File and store into Pandas DataFrames
school_data = pd.read_csv(school_data_to_load)
student_data = pd.read_csv(student_data_to_load)

# Combine the data into a single dataset.  
school_data_complete = pd.merge(student_data, school_data, how="left", on=["school_name", "school_name"])
school_data_complete.head()





# District Summary

# Calculate the total number of unique schools
school_count = len(school_data_complete["school_name"].unique())

# Calculate the total number of students
student_count = len(school_data_complete["student_name"])

# Calculate the total budget
total_budget = sum(school_data_complete["budget"].unique())

# Calculate the average (mean) math score
average_math_score = school_data_complete["math_score"].mean()

# Calculate the average (mean) reading score
average_reading_score = school_data_complete["reading_score"].mean()

# Use the following to calculate the percentage of students who passed math (math scores greather than or equal to 70)
passing_math_count = school_data_complete[(school_data_complete["math_score"] >= 70)].count()["student_name"]
passing_math_percentage = passing_math_count / float(student_count) * 100

# Calculate the percentage of students who passeed reading (hint: look at how the math percentage was calculated)  
passing_reading_count = school_data_complete[(school_data_complete["reading_score"] >= 70)].count()["student_name"]
passing_reading_percentage = passing_reading_count / float(student_count) * 100

# Use the following to calculate the percentage of students that passed math and reading
passing_math_reading_count = school_data_complete[
    (school_data_complete["math_score"] >= 70) & (school_data_complete["reading_score"] >= 70)
].count()["student_name"]
overall_passing_rate = passing_math_reading_count /  float(student_count) * 100

# Create a high-level snapshot of the district's key metrics in a DataFrame
district_summary = pd.DataFrame([
    {"District Metric": "Total Number of Unique Schools", "Value": school_count},
    {"District Metric": "Total Students", "Value": student_count},
    {"District Metric": "Total Budget", "Value": total_budget},
    {"District Metric": "Average Math Score", "Value": average_math_score},
    {"District Metric": "Average Reading Score", "Value": average_reading_score},
    {"District Metric": "Percent Passing Math", "Value": passing_math_percentage},
    {"District Metric": "Percent Passing Reading", "Value": passing_reading_percentage},
    {"District Metric": "Percent Overall Passing", "Value": overall_passing_rate}
])

# Formatting - have to fix this
district_summary["Value"] = district_summary["Value"].map("{:,.2f}".format)
district_summary["Value"][5:8] = district_summary["Value"][5:8] +"%"
district_summary["Value"][2] = "$" + district_summary["Value"][2]

# Display the DataFrame
district_summary




# School Summary

# Use the code provided to select the school type
school_types = school_data.set_index(["school_name"])["type"]

# Calculate the total student count
per_school_counts = school_data_complete.groupby(["school_name"])["student_name"].count()

# Calculate the total school budget and per capita spending
per_school_budget = school_data_complete.groupby(["school_name"]).mean()["budget"]
per_school_capita = per_school_budget / per_school_counts
per_school_capita = pd.Series(per_school_capita,
              name="Per Student Budget")
per_school_capita.to_frame()

# Calculate the average test scores
per_school_math = school_data_complete.groupby(["school_name"]).mean()["math_score"]
per_school_reading = school_data_complete.groupby(["school_name"]).mean()["reading_score"]

# Calculate the number of schools with math scores of 70 or higher
school_passing_math = school_data_complete[(school_data_complete["math_score"] >= 70)]

# Calculate the number of schools with reading scores of 70 or higher
school_passing_reading = school_data_complete[(school_data_complete["reading_score"] >= 70)]

# Use the provided code to calculate the schools that passed both math and reading with scores of 70 or higher
passing_math_and_reading = school_data_complete[
    (school_data_complete["reading_score"] >= 70) & (school_data_complete["math_score"] >= 70)
]

# Use the provided code to calculate the passing rates
per_school_passing_math = school_passing_math.groupby(["school_name"]).count()["student_name"] / per_school_counts * 100
per_school_passing_reading = school_passing_reading.groupby(["school_name"]).count()["student_name"] / per_school_counts * 100
overall_passing_rate = passing_math_and_reading.groupby(["school_name"]).count()["student_name"] / per_school_counts * 100

# Create a DataFrame called `per_school_summary` with columns for the calculations above.
per_school_summary = pd.merge(school_types, per_school_counts, on="school_name")
per_school_summary = pd.merge(per_school_summary, per_school_budget, on="school_name")
per_school_summary = pd.merge(per_school_summary, per_school_capita, on="school_name")
per_school_summary = pd.merge(per_school_summary, per_school_math, on="school_name")
per_school_summary = pd.merge(per_school_summary, per_school_reading, on="school_name")
per_school_summary = pd.merge(per_school_summary, per_school_passing_math, on="school_name")
per_school_summary = pd.merge(per_school_summary, per_school_passing_reading, on="school_name")

per_school_summary = per_school_summary.rename(columns={"type": "School Type",
                                                        "student_name_x": "Total Students",
                                                        "budget": "Total School Budget",
                                                        "math_score": "Average Math Score",
                                                        "reading_score": "Average Reading Score",
                                                        "student_name_y": "Percent Passing Math",
                                                        "student_name": "Percent Passing Reading"})
per_school_summary = pd.merge(per_school_summary, overall_passing_rate, on="school_name")
per_school_summary = per_school_summary.rename(columns={"student_name": "Percent Overall Passing"})

# Display the DataFrame
per_school_summary





# Highest-Performing Schools

# Sort the schools by `% Overall Passing` in descending order and display the top 5 rows.
top_schools = per_school_summary.sort_values(["Percent Overall Passing"], ascending = False)
top_schools.head()





# Lowest-Performing Schools

# Sort the schools by `% Overall Passing` in ascending order and display the top 5 rows.
bottom_schools = per_school_summary.sort_values(["Percent Overall Passing"])
bottom_schools.head()





# Math Scores by Grade

# Use the code provided to separate the data by grade
ninth_graders = school_data_complete[(school_data_complete["grade"] == "9th")]
tenth_graders = school_data_complete[(school_data_complete["grade"] == "10th")]
eleventh_graders = school_data_complete[(school_data_complete["grade"] == "11th")]
twelfth_graders = school_data_complete[(school_data_complete["grade"] == "12th")]

ninth_graders_scores = ninth_graders.groupby(["school_name"])["math_score"].mean()
tenth_graders_scores = tenth_graders.groupby(["school_name"])["math_score"].mean()
eleventh_graders_scores = eleventh_graders.groupby(["school_name"])["math_score"].mean()
twelfth_graders_scores = twelfth_graders.groupby(["school_name"])["math_score"].mean()

# Combine each of the scores above into single DataFrame called `math_scores_by_grade`
math_scores_by_grade = pd.DataFrame([ninth_graders_scores,
                                     tenth_graders_scores,
                                     eleventh_graders_scores,
                                     twelfth_graders_scores],
                                    index=['9th', '10th', '11th', '12th']
                                   )

# Minor data wrangling
math_scores_by_grade.index.name = "grade"

# Display the DataFrame
math_scores_by_grade





# Reading Scores by Grade

# Group by "school_name" and take the mean of each.
ninth_graders_scores = ninth_graders.groupby(["school_name"])["reading_score"].mean()
tenth_graders_scores = tenth_graders.groupby(["school_name"])["reading_score"].mean()
eleventh_graders_scores = eleventh_graders.groupby(["school_name"])["reading_score"].mean()
twelfth_graders_scores = twelfth_graders.groupby(["school_name"])["reading_score"].mean()

# Combine each of the scores above into single DataFrame called `reading_scores_by_grade`
reading_scores_by_grade = pd.DataFrame([ninth_graders_scores,
                                        tenth_graders_scores,
                                        eleventh_graders_scores,
                                        twelfth_graders_scores],
                                        index=['9th', '10th', '11th', '12th']
                                       )

# Minor data wrangling
reading_scores_by_grade.index.name = "grade"

# Display the DataFrame
reading_scores_by_grade





# Scores by School Spending

# Establish the bins 
spending_bins = [0, 585, 630, 645, 680]
labels = ["<$585", "$585-630", "$630-645", "$645-680"]

# Create a copy of the school summary since it has the "Per Student Budget" 
school_spending_df = per_school_summary.copy()

# Use `pd.cut` to categorize spending based on the bins.
school_spending_df["Spending Ranges (Per Student)"] = pd.cut(per_school_summary["Per Student Budget"], bins=spending_bins, labels=labels, include_lowest=True)

#  Calculate averages for the desired columns. 
spending_math_scores = school_spending_df.groupby(["Spending Ranges (Per Student)"]).mean()["Average Math Score"]
spending_reading_scores = school_spending_df.groupby(["Spending Ranges (Per Student)"]).mean()["Average Reading Score"]
spending_passing_math = school_spending_df.groupby(["Spending Ranges (Per Student)"]).mean()["Percent Passing Math"]
spending_passing_reading = school_spending_df.groupby(["Spending Ranges (Per Student)"]).mean()["Percent Passing Reading"]
overall_passing_spending = school_spending_df.groupby(["Spending Ranges (Per Student)"]).mean()["Percent Overall Passing"]

# Assemble into DataFrame
spending_summary = pd.DataFrame([spending_math_scores,
                                 spending_reading_scores,
                                 spending_passing_math,
                                 spending_passing_reading,
                                 overall_passing_spending])

# Display results
spending_summary





# Scores by School Size

# Establish the bins.
size_bins = [0, 1000, 2000, 5000]
labels = ["Small (<1000)", "Medium (1000-2000)", "Large (2000-5000)"]

# Create a copy of the school summary
school_size_df = per_school_summary.copy()

# Categorize the spending based on the bins
# Use `pd.cut` on the "Total Students" column of the `per_school_summary` DataFrame.
school_size_df["School Size"] = pd.cut(per_school_summary["Total Students"], bins=size_bins, labels=labels, include_lowest=True)

# Calculate averages for the desired columns. 
size_math_scores = school_size_df.groupby(["School Size"]).mean()["Average Math Score"]
size_reading_scores = school_size_df.groupby(["School Size"]).mean()["Average Reading Score"]
size_passing_math = school_size_df.groupby(["School Size"]).mean()["Percent Passing Math"]
size_passing_reading = school_size_df.groupby(["School Size"]).mean()["Percent Passing Reading"]
size_overall_passing = school_size_df.groupby(["School Size"]).mean()["Percent Overall Passing"]

# Create a DataFrame called `size_summary` that breaks down school performance based on school size (small, medium, or large).
# Use the scores above to create a new DataFrame called `size_summary`
size_summary = pd.DataFrame([size_math_scores,
                                 size_reading_scores,
                                 size_passing_math,
                                 size_passing_reading,
                                 size_overall_passing])

# Display results
size_summary





# Scores by School Type

# Calculate averages for the desired columns. 
type_math_scores = school_size_df.groupby(["School Type"]).mean()["Average Math Score"]
type_reading_scores = school_size_df.groupby(["School Type"]).mean()["Average Reading Score"]
type_passing_math = school_size_df.groupby(["School Type"]).mean()["Percent Passing Math"]
type_passing_reading = school_size_df.groupby(["School Type"]).mean()["Percent Passing Reading"]
type_overall_passing = school_size_df.groupby(["School Type"]).mean()["Percent Overall Passing"]

# Create a DataFrame called `type_summary` that breaks down school performance based on school type (District or Charter).
# Use the scores above to create a new DataFrame called `type_summary`
type_summary = pd.DataFrame([type_math_scores,
                                 type_reading_scores,
                                 type_passing_math,
                                 type_passing_reading,
                                 type_overall_passing])

# Display results
type_summary
